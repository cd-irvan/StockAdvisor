{
  "nbformat": 4,
  "nbformat_minor": 0,
  "metadata": {
    "colab": {
      "provenance": []
    },
    "kernelspec": {
      "name": "python3",
      "display_name": "Python 3"
    },
    "language_info": {
      "name": "python"
    }
  },
  "cells": [
    {
      "cell_type": "code",
      "source": [
        "import yfinance as yf\n",
        "import pandas as pd\n",
        "\n",
        "def get_stock_data(symbol):\n",
        "    stock = yf.Ticker(symbol)\n",
        "    # Fetching historical data for the past month\n",
        "    df = stock.history(period=\"1mo\")\n",
        "    return df\n",
        "\n",
        "def stock_decision(companies):\n",
        "    recommendations = {'Buy': [], 'Sell': []}\n",
        "\n",
        "    for company in companies:\n",
        "        df = get_stock_data(company)\n",
        "        # Check if DataFrame is not empty and if it contains a DatetimeIndex\n",
        "        if not df.empty and isinstance(df.index, pd.DatetimeIndex):\n",
        "            # Calculating weekly average of closing prices\n",
        "            weekly_avg = df['Close'].resample('W').mean()\n",
        "\n",
        "            # Calculating the percentage change\n",
        "            pct_change = weekly_avg.pct_change()\n",
        "\n",
        "            # Checking if there has been a steady increase over the last 3 weeks\n",
        "            if len(pct_change) >= 3 and pct_change[-3] > 0.01 and pct_change[-2] > 0.01 and pct_change[-1] > 0.01:\n",
        "                recommendations['Buy'].append(company)\n",
        "            else:\n",
        "                recommendations['Sell'].append(company)\n",
        "        else:\n",
        "            print(f\"Data not available or insufficient for {company}\")\n",
        "\n",
        "    return f\"Buy: {', '.join(recommendations['Buy'])}\\nSell: {', '.join(recommendations['Sell'])}\"\n",
        "\n",
        "# List of company symbols, updated Facebook's ticker to META\n",
        "companies = ['AAPL', 'MSFT', 'AMZN', 'TSLA', 'META']\n",
        "\n",
        "# Running the function\n",
        "print(stock_decision(companies))\n"
      ],
      "metadata": {
        "id": "adBCZzN43s8Y"
      },
      "execution_count": null,
      "outputs": []
    }
  ]
}